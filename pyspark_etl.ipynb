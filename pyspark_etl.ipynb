{
 "cells": [
  {
   "cell_type": "markdown",
   "metadata": {},
   "source": [
    "## LAB1: PySpark+MySQL(JDBC)"
   ]
  },
  {
   "cell_type": "code",
   "execution_count": 1,
   "metadata": {
    "scrolled": true
   },
   "outputs": [],
   "source": [
    "from pyspark.sql import SparkSession\n",
    "from pyspark.sql.types import *\n",
    "from pyspark.sql.functions import *\n",
    "from pyspark.sql import Window"
   ]
  },
  {
   "cell_type": "code",
   "execution_count": 2,
   "metadata": {},
   "outputs": [],
   "source": [
    "# Extract data from HDFS (CSV)\n",
    "df_death = spark.read.csv(\"hdfs://devenv/user/spark/pyspark_etl/Covid_Death.csv\", header=True, inferSchema=True)\n",
    "df_vaccine = spark.read.csv(\"hdfs://devenv/user/spark/pyspark_etl/Covid_Vaccine.csv\", header=True, inferSchema=True)"
   ]
  },
  {
   "cell_type": "code",
   "execution_count": 3,
   "metadata": {
    "scrolled": false
   },
   "outputs": [
    {
     "name": "stdout",
     "output_type": "stream",
     "text": [
      "+-----------+---------+----------+---------+----------+\n",
      "|   location|     date|population|new_cases|new_deaths|\n",
      "+-----------+---------+----------+---------+----------+\n",
      "|Afghanistan|2020/2/24|  38928341|        1|      null|\n",
      "|Afghanistan|2020/2/25|  38928341|        0|      null|\n",
      "|Afghanistan|2020/2/26|  38928341|        0|      null|\n",
      "|Afghanistan|2020/2/27|  38928341|        0|      null|\n",
      "|Afghanistan|2020/2/28|  38928341|        0|      null|\n",
      "+-----------+---------+----------+---------+----------+\n",
      "only showing top 5 rows\n",
      "\n"
     ]
    }
   ],
   "source": [
    "df_death.select('location','date','population','new_cases','new_deaths')\\\n",
    "        .show(5)"
   ]
  },
  {
   "cell_type": "code",
   "execution_count": 4,
   "metadata": {
    "scrolled": true
   },
   "outputs": [
    {
     "name": "stdout",
     "output_type": "stream",
     "text": [
      "+-----------+---------+----------------+\n",
      "|   location|     date|new_vaccinations|\n",
      "+-----------+---------+----------------+\n",
      "|Afghanistan|2020/2/24|            null|\n",
      "|Afghanistan|2020/2/25|            null|\n",
      "|Afghanistan|2020/2/26|            null|\n",
      "|Afghanistan|2020/2/27|            null|\n",
      "|Afghanistan|2020/2/28|            null|\n",
      "+-----------+---------+----------------+\n",
      "only showing top 5 rows\n",
      "\n"
     ]
    }
   ],
   "source": [
    "df_vaccine.select('location','date','new_vaccinations')\\\n",
    "          .show(5)"
   ]
  },
  {
   "cell_type": "markdown",
   "metadata": {},
   "source": [
    "### 1. Tracking covid-19 Vaccinations across countries"
   ]
  },
  {
   "cell_type": "code",
   "execution_count": 5,
   "metadata": {
    "scrolled": true
   },
   "outputs": [],
   "source": [
    "# Transform: Tracking Coronavirus Vaccinations Around the World (by country)\n",
    "cond=[df_death.location==df_vaccine.location,df_death.date==df_vaccine.date]\n",
    "window=Window.partitionBy('location').orderBy('location','date') \n",
    "df_vaccine_total=df_death.filter('continent IS NOT NULL')\\\n",
    "               .join(df_vaccine,cond)\\\n",
    "               .select(df_death.location,df_death.date,df_death.population,df_death.new_cases,df_death.new_deaths,df_vaccine.new_vaccinations)\\\n",
    "               .withColumn('total_vaccinations',sum('new_vaccinations').over(window))"
   ]
  },
  {
   "cell_type": "code",
   "execution_count": 7,
   "metadata": {},
   "outputs": [
    {
     "name": "stdout",
     "output_type": "stream",
     "text": [
      "+--------+---------+----------------+------------------+\n",
      "|location|     date|new_vaccinations|total_vaccinations|\n",
      "+--------+---------+----------------+------------------+\n",
      "|  Taiwan|2021/3/22|            1578|              1578|\n",
      "|  Taiwan|2021/3/23|            1640|              3218|\n",
      "|  Taiwan|2021/3/24|            1951|              5169|\n",
      "|  Taiwan|2021/3/25|            1884|              7053|\n",
      "|  Taiwan|2021/3/26|            2179|              9232|\n",
      "|  Taiwan|2021/3/27|             145|              9377|\n",
      "|  Taiwan|2021/3/28|              35|              9412|\n",
      "|  Taiwan|2021/3/29|            1479|             10891|\n",
      "|  Taiwan|2021/3/30|            1757|             12648|\n",
      "|  Taiwan|2021/3/31|            1752|             14400|\n",
      "|  Taiwan| 2021/4/1|            2050|             16450|\n",
      "|  Taiwan|2021/4/10|             208|             16658|\n",
      "|  Taiwan|2021/4/11|              43|             16701|\n",
      "|  Taiwan|2021/4/12|            1181|             17882|\n",
      "|  Taiwan|2021/4/13|            1231|             19113|\n",
      "|  Taiwan|2021/4/14|            1384|             20497|\n",
      "|  Taiwan|2021/4/15|            1542|             22039|\n",
      "|  Taiwan|2021/4/16|            2350|             24389|\n",
      "|  Taiwan|2021/4/17|              61|             24450|\n",
      "|  Taiwan| 2021/4/2|             606|             25056|\n",
      "+--------+---------+----------------+------------------+\n",
      "only showing top 20 rows\n",
      "\n"
     ]
    }
   ],
   "source": [
    "df_vaccine_total.select(df_vaccine_total.location,df_vaccine_total.date,df_vaccine_total.new_vaccinations,df_vaccine_total.total_vaccinations)\\\n",
    "                .filter(df_vaccine_total.location=='Taiwan')\\\n",
    "                .filter(df_vaccine_total.new_vaccinations.isNotNull())\\\n",
    "                .show()"
   ]
  },
  {
   "cell_type": "code",
   "execution_count": 8,
   "metadata": {},
   "outputs": [],
   "source": [
    "#Load: output df to mySQL database by jdbc connector\n",
    "df_vaccine_total.write \\\n",
    "                .option(\"driver\", \"com.mysql.jdbc.Driver\") \\\n",
    "                .jdbc(\"jdbc:mysql://localhost:3306\", \"covid.vaccination\",\n",
    "                 properties={\"user\": \"root\", \"password\": \"root\"}) # input username and password"
   ]
  },
  {
   "cell_type": "markdown",
   "metadata": {},
   "source": [
    "### 2. Tracking  covid-19 inflection rate and death rate  across countries"
   ]
  },
  {
   "cell_type": "code",
   "execution_count": 9,
   "metadata": {},
   "outputs": [],
   "source": [
    "#Transformation: Tracking covid-19 inflection rate and death rate across countries\n",
    "df_inflection_total=df_death.select(df_death.location,df_death.continent,df_death.population,df_death.new_cases,df_death.new_deaths)\\\n",
    "                            .filter(df_death.continent.isNotNull())\\\n",
    "                            .groupBy(df_death.location,df_death.continent,df_death.population)\\\n",
    "                            .agg({'new_cases':'sum','new_deaths':'sum'})\\\n",
    "                            .withColumnRenamed('sum(new_cases)','total_cases')\\\n",
    "                            .withColumnRenamed('sum(new_deaths)','total_deaths')\\\n",
    "                            .na.fill(0)"
   ]
  },
  {
   "cell_type": "code",
   "execution_count": 11,
   "metadata": {
    "scrolled": false
   },
   "outputs": [
    {
     "name": "stdout",
     "output_type": "stream",
     "text": [
      "+-------------+-------------+----------+-----------+------------+\n",
      "|     location|    continent|population|total_cases|total_deaths|\n",
      "+-------------+-------------+----------+-----------+------------+\n",
      "|United States|North America| 331002647|   32557439|      579276|\n",
      "|        India|         Asia|1380004385|   20665148|      226188|\n",
      "|       Brazil|South America| 212559409|   14930183|      414399|\n",
      "|       France|       Europe|  68147687|    5767541|      105792|\n",
      "|       Russia|       Europe| 145934460|    4792354|      110022|\n",
      "+-------------+-------------+----------+-----------+------------+\n",
      "only showing top 5 rows\n",
      "\n"
     ]
    }
   ],
   "source": [
    "# Top 5 most affected countries with the highest number of COVID-19 cases\n",
    "df_inflection_total.orderBy(desc('total_cases')).show(5)"
   ]
  },
  {
   "cell_type": "code",
   "execution_count": 12,
   "metadata": {},
   "outputs": [],
   "source": [
    "df_inflection_percentage=df_inflection_total.withColumn('inflection_rate',format_number(df_inflection_total['total_cases']/df_inflection_total['population']*100,2))\\\n",
    "                                            .withColumn('death_rate',format_number(df_inflection_total['total_deaths']/df_inflection_total['total_cases']*100,2))          "
   ]
  },
  {
   "cell_type": "code",
   "execution_count": 13,
   "metadata": {},
   "outputs": [
    {
     "name": "stdout",
     "output_type": "stream",
     "text": [
      "+-------------+-------------+----------+---------------+----------+\n",
      "|     location|    continent|population|inflection_rate|death_rate|\n",
      "+-------------+-------------+----------+---------------+----------+\n",
      "|       Sweden|       Europe|  10099270|           9.86|      1.42|\n",
      "|United States|North America| 331002647|           9.84|      1.78|\n",
      "|       Israel|         Asia|   8655541|           9.69|      0.76|\n",
      "|      Estonia|       Europe|   1326539|           9.33|      0.96|\n",
      "|    Lithuania|       Europe|   2722291|           9.28|      1.58|\n",
      "+-------------+-------------+----------+---------------+----------+\n",
      "only showing top 5 rows\n",
      "\n"
     ]
    }
   ],
   "source": [
    "# Top 5 most affected countries with the highest rate of COVID-19 Inflection\n",
    "df_inflection_percentage.select('location','continent','population','inflection_rate','death_rate')\\\n",
    "                        .orderBy(desc('inflection_rate'))\\\n",
    "                        .show(5)"
   ]
  },
  {
   "cell_type": "code",
   "execution_count": 14,
   "metadata": {},
   "outputs": [],
   "source": [
    "#Load: output df to mySQL database by jdbc connector\n",
    "df_inflection_percentage.write \\\n",
    "                .option(\"driver\", \"com.mysql.jdbc.Driver\") \\\n",
    "                .jdbc(\"jdbc:mysql://localhost:3306\", \"covid.inflection_percentage\", \n",
    "                 properties={\"user\": \"root\", \"password\": \"root\"}) # input username and password"
   ]
  },
  {
   "cell_type": "markdown",
   "metadata": {},
   "source": [
    "## LAB2: PySpark+PostgreSQL(Docker-Compose)"
   ]
  },
  {
   "cell_type": "code",
   "execution_count": 1,
   "metadata": {},
   "outputs": [],
   "source": [
    "from pyspark.sql import SparkSession\n",
    "from pyspark.sql.types import *\n",
    "from pyspark.sql.functions import *\n",
    "from pyspark.sql import Window\n",
    "import psycopg2"
   ]
  },
  {
   "cell_type": "code",
   "execution_count": 2,
   "metadata": {},
   "outputs": [],
   "source": [
    "# Extract data from HDFS (CSV)\n",
    "df_death = spark.read.csv(\"hdfs://devenv/user/spark/pyspark_etl/Covid_Death.csv\", header=True, inferSchema=True)\n",
    "df_vaccine = spark.read.csv(\"hdfs://devenv/user/spark/pyspark_etl/Covid_Vaccine.csv\", header=True, inferSchema=True)"
   ]
  },
  {
   "cell_type": "code",
   "execution_count": 3,
   "metadata": {},
   "outputs": [],
   "source": [
    "# Transform1: Tracking Coronavirus Vaccinations Around the World (by country)\n",
    "cond=[df_death.location==df_vaccine.location,df_death.date==df_vaccine.date]\n",
    "window=Window.partitionBy('location').orderBy('location','date') \n",
    "df_vaccine_total=df_death.filter('continent IS NOT NULL')\\\n",
    "               .join(df_vaccine,cond)\\\n",
    "               .select(df_death.location,df_death.date,df_death.population,df_death.new_cases,df_death.new_deaths,df_vaccine.new_vaccinations)\\\n",
    "               .withColumn('total_vaccinations',sum('new_vaccinations').over(window))"
   ]
  },
  {
   "cell_type": "code",
   "execution_count": 4,
   "metadata": {},
   "outputs": [],
   "source": [
    "#Transformation2: Tracking covid-19 inflection rate and death rate across countries\n",
    "df_inflection_total=df_death.select(df_death.location,df_death.continent,df_death.population,df_death.new_cases,df_death.new_deaths)\\\n",
    "                            .filter(df_death.continent.isNotNull())\\\n",
    "                            .groupBy(df_death.location,df_death.continent,df_death.population)\\\n",
    "                            .agg({'new_cases':'sum','new_deaths':'sum'})\\\n",
    "                            .withColumnRenamed('sum(new_cases)','total_cases')\\\n",
    "                            .withColumnRenamed('sum(new_deaths)','total_deaths')\\\n",
    "                            .na.fill(0)"
   ]
  },
  {
   "cell_type": "code",
   "execution_count": 5,
   "metadata": {},
   "outputs": [],
   "source": [
    "df_inflection_percentage=df_inflection_total.withColumn('inflection_rate',format_number(df_inflection_total['total_cases']/df_inflection_total['population']*100,2))\\\n",
    "                                            .withColumn('death_rate',format_number(df_inflection_total['total_deaths']/df_inflection_total['total_cases']*100,2))  "
   ]
  },
  {
   "cell_type": "code",
   "execution_count": 6,
   "metadata": {},
   "outputs": [],
   "source": [
    "#Load to postgresql database(docker-compose)\n",
    "conn = psycopg2.connect(\n",
    "        host = \"localhost\",\n",
    "        database = \"covid\",\n",
    "        user = \"root\",     # input username\n",
    "        password = \"root\") # input password"
   ]
  },
  {
   "cell_type": "code",
   "execution_count": 7,
   "metadata": {},
   "outputs": [],
   "source": [
    "cursor = conn.cursor()\n",
    "\n",
    "sql_query='''\n",
    "\n",
    "CREATE TABLE IF NOT EXISTS vaccination( \\\n",
    "        location VARCHAR(255),\n",
    "        date Date,\n",
    "        population int,\n",
    "        new_cases int,\n",
    "        new_deaths int,\n",
    "        new_vaccinations int,\n",
    "        total_vaccinations int\n",
    ")\n",
    "'''\n",
    "\n",
    "cursor.execute(sql_query)\n",
    "conn.commit()\n",
    "cursor.close()\n",
    "# conn.close()"
   ]
  },
  {
   "cell_type": "code",
   "execution_count": 8,
   "metadata": {},
   "outputs": [],
   "source": [
    "cursor = conn.cursor()\n",
    "\n",
    "vaccination_seq = [tuple(x) for x in df_vaccine_total.collect()]\n",
    "\n",
    "records_list_template = ','.join(['%s'] * len(vaccination_seq))\n",
    "\n",
    "insert_query = \"INSERT INTO vaccination ( \\\n",
    "                location, date, population, new_cases,\\\n",
    "                new_deaths, new_vaccinations, total_vaccinations \\\n",
    "                ) VALUES {}\".format(records_list_template)\n",
    "\n",
    "\n",
    "\n",
    "cursor.execute(insert_query, vaccination_seq) \n",
    "conn.commit()\n",
    "cursor.close()\n",
    "# conn.close()"
   ]
  },
  {
   "cell_type": "code",
   "execution_count": 9,
   "metadata": {},
   "outputs": [],
   "source": [
    "cursor = conn.cursor()\n",
    "\n",
    "sql_query='''\n",
    "\n",
    "CREATE TABLE IF NOT EXISTS inflection_percentage( \\\n",
    "        location VARCHAR(255),\n",
    "        continent VARCHAR(255),\n",
    "        population int,\n",
    "        total_cases int,\n",
    "        total_deaths int,\n",
    "        inflection_rate decimal,\n",
    "        death_rate decimal\n",
    ")\n",
    "'''\n",
    "\n",
    "cursor.execute(sql_query)\n",
    "conn.commit()\n",
    "cursor.close()\n",
    "# conn.close()"
   ]
  },
  {
   "cell_type": "code",
   "execution_count": 10,
   "metadata": {},
   "outputs": [],
   "source": [
    "cursor = conn.cursor()\n",
    "\n",
    "inflection_seq = [tuple(x) for x in df_inflection_percentage.collect()]\n",
    "\n",
    "records_list_template = ','.join(['%s'] * len(inflection_seq))\n",
    "\n",
    "insert_query = \"INSERT INTO inflection_percentage ( \\\n",
    "                location, continent, population, total_cases,\\\n",
    "                total_deaths, inflection_rate, death_rate \\\n",
    "                ) VALUES {}\".format(records_list_template)\n",
    "\n",
    "\n",
    "\n",
    "cursor.execute(insert_query, inflection_seq) \n",
    "conn.commit()\n",
    "cursor.close()\n",
    "conn.close()"
   ]
  }
 ],
 "metadata": {
  "kernelspec": {
   "display_name": "Python 3",
   "language": "python",
   "name": "python3"
  },
  "language_info": {
   "codemirror_mode": {
    "name": "ipython",
    "version": 3
   },
   "file_extension": ".py",
   "mimetype": "text/x-python",
   "name": "python",
   "nbconvert_exporter": "python",
   "pygments_lexer": "ipython3",
   "version": "3.7.6"
  }
 },
 "nbformat": 4,
 "nbformat_minor": 4
}
